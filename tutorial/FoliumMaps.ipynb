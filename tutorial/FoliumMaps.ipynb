{
 "cells": [
  {
   "cell_type": "markdown",
   "metadata": {},
   "source": [
    "# Easy maps with folium#"
   ]
  },
  {
   "cell_type": "markdown",
   "metadata": {},
   "source": [
    "Folium builds on the data wrangling strengths of the Python ecosystem and the mapping strengths of the Leaflet.js library. It's essentially a Python wrapper around the excellent Leaflet.js mapping library. Manipulate your data in Python, then visualize it in on a Leaflet map via Folium.\n",
    "\n",
    "The library has a number of built-in tilesets from OpenStreetMap, MapQuest Open, MapQuest Open Aerial, Mapbox, and Stamen, and supports custom tilesets with Mapbox or Cloudmade API keys. Folium supports both GeoJSON and TopoJSON overlays, as well as the binding of data to those overlays to create choropleth maps with color-brewer color schemes."
   ]
  },
  {
   "cell_type": "code",
   "execution_count": null,
   "metadata": {
    "collapsed": true
   },
   "outputs": [],
   "source": [
    "import folium\n",
    "from IPython.display import HTML\n",
    "import json\n",
    "import pandas as pd\n",
    "from shapely.geometry import Polygon\n",
    "from math import cos, pi"
   ]
  },
  {
   "cell_type": "code",
   "execution_count": null,
   "metadata": {
    "collapsed": true
   },
   "outputs": [],
   "source": [
    "# Utility function to embed maps directly in the notebook\n",
    "def inline_map(m, width=1200, height=500, input_html=False):\n",
    "    \"\"\"\n",
    "    Embeds the HTML source of the map directly into the IPython notebook.\n",
    "    \n",
    "    This method will not work if the map depends on any files (json data). Also this uses\n",
    "    the HTML5 srcdoc attribute, which may not be supported in all browsers.\n",
    "    \"\"\"\n",
    "    if not input_html:\n",
    "        m._build_map()\n",
    "        srcdoc = m.HTML.replace('\"', '&quot;')\n",
    "    else:\n",
    "        srcdoc = m.replace('\"', '&quot;')\n",
    "    return HTML('<iframe srcdoc=\"{}\" '\n",
    "                 'style=\"width: {}px; height: {}px; '\n",
    "                 'border: none\"></iframe>'.format(srcdoc, width, height))"
   ]
  },
  {
   "cell_type": "markdown",
   "metadata": {},
   "source": [
    "### Displaying a map###"
   ]
  },
  {
   "cell_type": "code",
   "execution_count": null,
   "metadata": {
    "collapsed": false
   },
   "outputs": [],
   "source": [
    "# Initialize a folium map simply by specifying the lat/lon to be centered at\n",
    "berlin_loc = [52.51, 13.42]\n",
    "map_osm = folium.Map(location=berlin_loc)\n",
    "inline_map(map_osm)"
   ]
  },
  {
   "cell_type": "markdown",
   "metadata": {},
   "source": [
    "Available tiles for map:\n",
    "- \"OpenStreetMap\"\n",
    "- \"MapQuest Open\"\n",
    "- \"MapQuest Open Aerial\"\n",
    "- \"Mapbox Bright\" (Limited levels of zoom for free tiles)\n",
    "- \"Mapbox Control Room\" (Limited levels of zoom for free tiles)\n",
    "- \"Stamen Terrain\"\n",
    "- \"Stamen Toner\"\n",
    "- \"Cloudmade\" (Must pass API key)\n",
    "- \"Mapbox\" (Must pass API key)"
   ]
  },
  {
   "cell_type": "code",
   "execution_count": null,
   "metadata": {
    "collapsed": false
   },
   "outputs": [],
   "source": [
    "# Some additional init parameters are the zoom level (higher --> more zoom) and tiles\n",
    "map_mqo = folium.Map(location=berlin_loc, zoom_start=13, tiles='MapQuest Open')\n",
    "inline_map(map_mqo)"
   ]
  },
  {
   "cell_type": "code",
   "execution_count": null,
   "metadata": {
    "collapsed": false
   },
   "outputs": [],
   "source": [
    "map_mbb = folium.Map(location=berlin_loc, tiles='Mapbox Bright')\n",
    "inline_map(map_mbb)"
   ]
  },
  {
   "cell_type": "markdown",
   "metadata": {
    "collapsed": true
   },
   "source": [
    "### Markers###"
   ]
  },
  {
   "cell_type": "markdown",
   "metadata": {},
   "source": [
    "Folium allows to place markers on the map easily. To find out the lat/lon of a given location, a (forward) geocoder is needed. One can use Google Maps, or the following utility function to enable lat/lon popovers:"
   ]
  },
  {
   "cell_type": "code",
   "execution_count": null,
   "metadata": {
    "collapsed": false
   },
   "outputs": [],
   "source": [
    "map0 = folium.Map(location=[52.499, 13.335], zoom_start=16, tiles='MapQuest Open')\n",
    "map0.lat_lng_popover()\n",
    "inline_map(map0)"
   ]
  },
  {
   "cell_type": "code",
   "execution_count": null,
   "metadata": {
    "collapsed": false
   },
   "outputs": [],
   "source": [
    "map1 = folium.Map(location=[52.499, 13.335], zoom_start=16, tiles='MapQuest Open')\n",
    "\n",
    "# Simple marker\n",
    "map1.simple_marker([52.5003, 13.3366], popup='Augsburger Straße')\n",
    "\n",
    "# Customization. Icon markers in http://getbootstrap.com/components/\n",
    "map1.simple_marker([52.5007,13.3349], popup='Eislebenerstr. 4', marker_icon='asterisk', marker_color='red')\n",
    "\n",
    "# Circle marker -- radius: circle radius, in pixels\n",
    "map1.circle_marker([52.4973, 13.3297], popup='Gerhart-Hauptmann-Anlage', \n",
    "                   radius=100, line_color='orange', fill_color='green', fill_opacity=0.3)\n",
    "\n",
    "# Polygon marker with N sides\n",
    "map1.polygon_marker([52.5018, 13.3430], popup='Wittenbergplatz', num_sides=4, radius=30, rotation=45)\n",
    "inline_map(map1)"
   ]
  },
  {
   "cell_type": "markdown",
   "metadata": {},
   "source": [
    "### Exercises\n",
    "\n",
    "1. Using the lat-lon popover above, find out the approximate lat/lon of Rio de Janeiro. Compare the coordinates with other Internet sources. \n",
    "2. Display a map centered on Rio de Janeiro and with a zoom level such that the full extension of Brazil is displayed.\n",
    "3. Display a map centered on Rio de Janeiro at an appropriate zoom to resolve the city and place a marker on the Rodrigo de Freitas Lagoon."
   ]
  },
  {
   "cell_type": "markdown",
   "metadata": {},
   "source": [
    "### GeoJSON Overlays###"
   ]
  },
  {
   "cell_type": "markdown",
   "metadata": {},
   "source": [
    "GeoJSON is an open standard format for encoding collections of simple geographical features along with their non-spatial attributes using JavaScript Object Notation. [Wikipedia GeoJSON](https://en.wikipedia.org/wiki/GeoJSON)"
   ]
  },
  {
   "cell_type": "code",
   "execution_count": null,
   "metadata": {
    "collapsed": false
   },
   "outputs": [],
   "source": [
    "# The geographical features are contained in a geojson file\n",
    "# Source: https://github.com/m-hoerz/berlin-shapes\n",
    "geo_path = r'berliner-bezirke.geojson'\n",
    "\n",
    "map_osm.geo_json(reset=True,\n",
    "                 geo_path=geo_path, \n",
    "                 fill_color='#ff8800', \n",
    "                 fill_opacity=0.4, \n",
    "                 line_color='#fff',\n",
    "                 line_opacity=0.4,\n",
    "                 line_weight=3)\n",
    "inline_map(map_osm)"
   ]
  },
  {
   "cell_type": "markdown",
   "metadata": {},
   "source": [
    "#### Binding data to GeoJSON Overlays"
   ]
  },
  {
   "cell_type": "markdown",
   "metadata": {},
   "source": [
    "Visualizing geometries on a map is interesting, but even more so is to be able to show relations and magnitudes on top of it. Folium allows the binding of Pandas dataframes on GeoJSON geometries"
   ]
  },
  {
   "cell_type": "code",
   "execution_count": null,
   "metadata": {
    "collapsed": true
   },
   "outputs": [],
   "source": [
    "# GeoJSON data loads like any normal JSON data\n",
    "geo_json = open(geo_path).read()\n",
    "geo_data = json.loads(geo_json)"
   ]
  },
  {
   "cell_type": "code",
   "execution_count": null,
   "metadata": {
    "collapsed": false
   },
   "outputs": [],
   "source": [
    "geo_data.keys()"
   ]
  },
  {
   "cell_type": "code",
   "execution_count": null,
   "metadata": {
    "collapsed": false
   },
   "outputs": [],
   "source": [
    "geo_data['features'][0].keys()"
   ]
  },
  {
   "cell_type": "code",
   "execution_count": null,
   "metadata": {
    "collapsed": false
   },
   "outputs": [],
   "source": [
    "# The geometry is described by its type (Polygon) and coordinates\n",
    "Polygon(geo_data['features'][0]['geometry']['coordinates'][0])"
   ]
  },
  {
   "cell_type": "code",
   "execution_count": null,
   "metadata": {
    "collapsed": false
   },
   "outputs": [],
   "source": [
    "# The boroughs' names are stored under properties/Name\n",
    "geo_data['features'][0]['properties']['Name']"
   ]
  },
  {
   "cell_type": "code",
   "execution_count": null,
   "metadata": {
    "collapsed": false
   },
   "outputs": [],
   "source": [
    "# All boroughs' names\n",
    "[gd['properties']['Name'] for gd in geo_data['features']]"
   ]
  },
  {
   "cell_type": "code",
   "execution_count": null,
   "metadata": {
    "collapsed": false
   },
   "outputs": [],
   "source": [
    "pd.DataFrame.from_csv?"
   ]
  },
  {
   "cell_type": "code",
   "execution_count": null,
   "metadata": {
    "collapsed": false
   },
   "outputs": [],
   "source": [
    "# Let's bind demographic data contained in a csv file. \n",
    "# The binding is made via the a common data column among the GeoJSON and the csv file\n",
    "\n",
    "# Load data into dataframe, skip file header on initialization\n",
    "data = pd.DataFrame.from_csv('berlin-data.csv', index_col=None, header=1)\n",
    "\n",
    "# Let's create a new data column: population in thousands for simpler understanding and data viz\n",
    "data['pop_thousands'] = data.apply(lambda row: round(row['population']/1000), axis=1)\n",
    "data"
   ]
  },
  {
   "cell_type": "code",
   "execution_count": null,
   "metadata": {
    "collapsed": true
   },
   "outputs": [],
   "source": [
    "# We'll use the appropriate options of the geo_json function to produce the final map\n",
    "map_osm.geo_json?"
   ]
  },
  {
   "cell_type": "code",
   "execution_count": null,
   "metadata": {
    "collapsed": false
   },
   "outputs": [],
   "source": [
    "# Display map binding geo_json and dataframe data -- using columns and key_on parameters\n",
    "# This produces a choropleth map = Choro (Area/Region) + Pleth (quantity)\n",
    "map_osm.geo_json(reset=True,\n",
    "                 geo_path=geo_path,\n",
    "                 data_out='data_rent.json',\n",
    "                 data=data,\n",
    "                 columns=['zone', 'avg_rent'],\n",
    "                 key_on='feature.properties.Name',\n",
    "                 fill_color='YlOrRd', \n",
    "                 fill_opacity=0.7, \n",
    "                 line_opacity=0.4,\n",
    "                 line_color='white',\n",
    "                 threshold_scale = [5,6,7,8,9,10],\n",
    "                 legend_name=\"Berlin average rent per m2 (Euro)\")\n",
    "map_osm.create_map('berlin_rent.html')\n",
    "inline_map(map_osm)"
   ]
  },
  {
   "cell_type": "code",
   "execution_count": null,
   "metadata": {
    "collapsed": false
   },
   "outputs": [],
   "source": [
    "# We can easily see which data is being bound\n",
    "map_osm.json_data"
   ]
  },
  {
   "cell_type": "markdown",
   "metadata": {},
   "source": [
    "### Exercises\n",
    "\n",
    "1. Produce a similar map to the one above, but binding the percentage of foreigners per neighborhood in Berlin.\n",
    "2. Produce a similar map to the one above, but binding the population per neighborhood in Berlin.\n",
    "3. Produce a similar map to the one above, but binding the population density per neighborhood in Berlin. [Tip: use the geometry of the neighborhoods to extract ]"
   ]
  }
 ],
 "metadata": {
  "kernelspec": {
   "display_name": "Python 3",
   "language": "python",
   "name": "python3"
  },
  "language_info": {
   "codemirror_mode": {
    "name": "ipython",
    "version": 3
   },
   "file_extension": ".py",
   "mimetype": "text/x-python",
   "name": "python",
   "nbconvert_exporter": "python",
   "pygments_lexer": "ipython3",
   "version": "3.4.1"
  }
 },
 "nbformat": 4,
 "nbformat_minor": 0
}
